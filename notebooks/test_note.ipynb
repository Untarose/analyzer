{
 "cells": [
  {
   "cell_type": "code",
   "execution_count": 1,
   "id": "cca0b4d8",
   "metadata": {},
   "outputs": [],
   "source": [
    "import sys\n",
    "import os\n",
    "sys.path.append(os.path.abspath(\"../src\"))\n",
    "from cores.analyzer import Analyzer"
   ]
  },
  {
   "cell_type": "code",
   "execution_count": 2,
   "id": "5c845fea",
   "metadata": {},
   "outputs": [
    {
     "name": "stdout",
     "output_type": "stream",
     "text": [
      "/home/ymd/program/python/analyzer/data/test/master/wav\n"
     ]
    }
   ],
   "source": [
    "analyzer = Analyzer('/home/ymd/program/python/analyzer/data/test')"
   ]
  },
  {
   "cell_type": "code",
   "execution_count": 3,
   "id": "4472a182",
   "metadata": {},
   "outputs": [
    {
     "data": {
      "text/plain": [
       "['wav']"
      ]
     },
     "execution_count": 3,
     "metadata": {},
     "output_type": "execute_result"
    }
   ],
   "source": [
    "analyzer.group_names()"
   ]
  },
  {
   "cell_type": "code",
   "execution_count": 5,
   "id": "300f04f0",
   "metadata": {},
   "outputs": [
    {
     "data": {
      "text/plain": [
       "['wav_rate', 'wav_waveform']"
      ]
     },
     "execution_count": 5,
     "metadata": {},
     "output_type": "execute_result"
    }
   ],
   "source": [
    "analyzer.get_group('wav').unit_names()"
   ]
  },
  {
   "cell_type": "code",
   "execution_count": 4,
   "id": "b663153f",
   "metadata": {},
   "outputs": [
    {
     "ename": "ValueError",
     "evalue": "your specified 和太鼓でドン_waveform is not exist",
     "output_type": "error",
     "traceback": [
      "\u001b[31m---------------------------------------------------------------------------\u001b[39m",
      "\u001b[31mValueError\u001b[39m                                Traceback (most recent call last)",
      "\u001b[36mCell\u001b[39m\u001b[36m \u001b[39m\u001b[32mIn[4]\u001b[39m\u001b[32m, line 1\u001b[39m\n\u001b[32m----> \u001b[39m\u001b[32m1\u001b[39m \u001b[43manalyzer\u001b[49m\u001b[43m.\u001b[49m\u001b[43mget_group\u001b[49m\u001b[43m(\u001b[49m\u001b[33;43m'\u001b[39;49m\u001b[33;43mwav\u001b[39;49m\u001b[33;43m'\u001b[39;49m\u001b[43m)\u001b[49m\u001b[43m.\u001b[49m\u001b[43mget_unit\u001b[49m\u001b[43m(\u001b[49m\u001b[33;43m'\u001b[39;49m\u001b[33;43m和太鼓でドン_waveform\u001b[39;49m\u001b[33;43m'\u001b[39;49m\u001b[43m)\u001b[49m.path\n",
      "\u001b[36mFile \u001b[39m\u001b[32m~/program/python/analyzer/src/cores/data_group/datagroup.py:36\u001b[39m, in \u001b[36mDataGroup.get_unit\u001b[39m\u001b[34m(self, unit_name)\u001b[39m\n\u001b[32m     34\u001b[39m     \u001b[38;5;28;01mreturn\u001b[39;00m \u001b[38;5;28mself\u001b[39m.units[unit_name]\n\u001b[32m     35\u001b[39m \u001b[38;5;28;01melse\u001b[39;00m:\n\u001b[32m---> \u001b[39m\u001b[32m36\u001b[39m     \u001b[38;5;28;01mraise\u001b[39;00m \u001b[38;5;167;01mValueError\u001b[39;00m(\u001b[33mf\u001b[39m\u001b[33m'\u001b[39m\u001b[33myour specified \u001b[39m\u001b[38;5;132;01m{\u001b[39;00munit_name\u001b[38;5;132;01m}\u001b[39;00m\u001b[33m is not exist\u001b[39m\u001b[33m'\u001b[39m)\n",
      "\u001b[31mValueError\u001b[39m: your specified 和太鼓でドン_waveform is not exist"
     ]
    }
   ],
   "source": [
    "analyzer.get_group('wav').get_unit('和太鼓でドン_waveform').path\n"
   ]
  },
  {
   "cell_type": "code",
   "execution_count": 5,
   "id": "0996d3b4",
   "metadata": {},
   "outputs": [],
   "source": [
    "analyzer.save_group(group_name='wav')"
   ]
  }
 ],
 "metadata": {
  "kernelspec": {
   "display_name": "venv-test",
   "language": "python",
   "name": "python3"
  },
  "language_info": {
   "codemirror_mode": {
    "name": "ipython",
    "version": 3
   },
   "file_extension": ".py",
   "mimetype": "text/x-python",
   "name": "python",
   "nbconvert_exporter": "python",
   "pygments_lexer": "ipython3",
   "version": "3.11.10"
  }
 },
 "nbformat": 4,
 "nbformat_minor": 5
}
