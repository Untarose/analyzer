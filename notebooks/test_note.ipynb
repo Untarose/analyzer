{
 "cells": [
  {
   "cell_type": "code",
   "execution_count": 1,
   "id": "cca0b4d8",
   "metadata": {},
   "outputs": [],
   "source": [
    "import sys\n",
    "import os\n",
    "sys.path.append(os.path.abspath(\"../src\"))\n",
    "from cores.analyzer import Analyzer"
   ]
  },
  {
   "cell_type": "code",
   "execution_count": 2,
   "id": "5c845fea",
   "metadata": {},
   "outputs": [],
   "source": [
    "analyzer = Analyzer('/home/ymd/program/python/analyzer/data/test')"
   ]
  },
  {
   "cell_type": "code",
   "execution_count": 3,
   "id": "4472a182",
   "metadata": {},
   "outputs": [
    {
     "data": {
      "text/plain": [
       "['wav']"
      ]
     },
     "execution_count": 3,
     "metadata": {},
     "output_type": "execute_result"
    }
   ],
   "source": [
    "analyzer.group_names()"
   ]
  },
  {
   "cell_type": "code",
   "execution_count": 4,
   "id": "b663153f",
   "metadata": {},
   "outputs": [
    {
     "data": {
      "text/plain": [
       "PosixPath('/home/ymd/program/python/analyzer/data/test/master/wav/__DATA__/和太鼓でドン_waveform')"
      ]
     },
     "execution_count": 4,
     "metadata": {},
     "output_type": "execute_result"
    }
   ],
   "source": [
    "analyzer.get_group('wav').get_unit('和太鼓でドン_waveform').path\n"
   ]
  },
  {
   "cell_type": "code",
   "execution_count": 5,
   "id": "0996d3b4",
   "metadata": {},
   "outputs": [],
   "source": [
    "analyzer.save_group(group_name='wav')"
   ]
  }
 ],
 "metadata": {
  "kernelspec": {
   "display_name": "venv-test",
   "language": "python",
   "name": "python3"
  },
  "language_info": {
   "codemirror_mode": {
    "name": "ipython",
    "version": 3
   },
   "file_extension": ".py",
   "mimetype": "text/x-python",
   "name": "python",
   "nbconvert_exporter": "python",
   "pygments_lexer": "ipython3",
   "version": "3.11.10"
  }
 },
 "nbformat": 4,
 "nbformat_minor": 5
}
